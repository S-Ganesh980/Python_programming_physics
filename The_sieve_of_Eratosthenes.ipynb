{
  "nbformat": 4,
  "nbformat_minor": 0,
  "metadata": {
    "colab": {
      "name": "The sieve of Eratosthenes",
      "provenance": [],
      "collapsed_sections": []
    },
    "kernelspec": {
      "name": "python3",
      "display_name": "Python 3"
    },
    "language_info": {
      "name": "python"
    }
  },
  "cells": [
    {
      "cell_type": "code",
      "source": [
        ""
      ],
      "metadata": {
        "id": "dkxMDGh5u9TJ"
      },
      "execution_count": null,
      "outputs": []
    },
    {
      "cell_type": "markdown",
      "source": [
        "# The Sieve of Eratosthenes \n",
        "\n",
        " The Sieve of Eratosthenes is an effective algorithm to determine all prime numbers up to a given upper limit $n$. <br>\n",
        " The algorithm is described as follows: <br>\n",
        "1. Create a list of consecutive integers from 2 through n: [2, 3, 4, ..., n].\n",
        "2. Initially, let p equal 2, the smallest prime number.\n",
        "3. Enumerate the multiples of p by counting to n from 2p in increments of p, and mark them in the list (these will be 2p, 3p, 4p, ...; the p itself should not be marked).\n",
        "4. Find the first number greater than p in the list that is not marked. If there was no such number, stop. Otherwise, let p now equal this new number (which is the next prime), and repeat from step 3.\n",
        "5. When the algorithm terminates, the numbers remaining not marked in the list are all the primes below n.\n"
      ],
      "metadata": {
        "id": "AI3qfTFEvkmZ"
      }
    },
    {
      "cell_type": "code",
      "source": [
        "# Creating a list of primes such that the index of the list is equal\n",
        "# to the number that the corresponsing list element represents\n",
        "def prime_num(n):\n",
        "  primes = list(range(n+1))\n",
        "  primes[0]=0\n",
        "  primes[1]=0\n",
        "\n",
        "#implementing the algorithm\n",
        "  for i in range(2, n+1):\n",
        "    if primes[i]>0:\n",
        "      primes[2*i :: i]= [0]* (len(primes[2*i::i]))\n",
        "  return [i for i in primes if i>0]\n",
        "print(sum(prime_num(20000000)))\n",
        "\n",
        "\n"
      ],
      "metadata": {
        "colab": {
          "base_uri": "https://localhost:8080/"
        },
        "id": "BtOK49zdykw5",
        "outputId": "f6838594-0c88-4ea9-b554-019d0b29b00a"
      },
      "execution_count": 17,
      "outputs": [
        {
          "output_type": "stream",
          "name": "stdout",
          "text": [
            "12272577818052\n"
          ]
        }
      ]
    },
    {
      "cell_type": "code",
      "source": [
        ""
      ],
      "metadata": {
        "id": "gGQ9nEEd2_WU"
      },
      "execution_count": null,
      "outputs": []
    },
    {
      "cell_type": "code",
      "source": [
        ""
      ],
      "metadata": {
        "id": "3B81-shi39gX"
      },
      "execution_count": null,
      "outputs": []
    }
  ]
}