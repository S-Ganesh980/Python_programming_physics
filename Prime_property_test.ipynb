{
 "cells": [
  {
   "cell_type": "markdown",
   "id": "da909e86",
   "metadata": {},
   "source": [
    "We want to develop a program to test positive integer numbers for the prime property. A positive integer larger than 1 is prime if it cannot be formed by multiplying two natural numbers.<br>\n",
    " We will be using the following algorithm: <br>\n",
    " 1. We are given a natural number $n$  that we want to test. \n",
    " 2. In a loop, we test whether $n % m == 0$ for all natural numbers  with $2<= m <= \\sqrt{n}$\n",
    " 3. If the test (2) is True for any of the tested $m$ , then $n$  is not prime. Otherwise, we have a prime number."
   ]
  },
  {
   "cell_type": "code",
   "execution_count": 120,
   "id": "eecdd565",
   "metadata": {},
   "outputs": [],
   "source": [
    "import numpy as np "
   ]
  },
  {
   "cell_type": "code",
   "execution_count": 126,
   "id": "d0f425f9",
   "metadata": {},
   "outputs": [
    {
     "name": "stdout",
     "output_type": "stream",
     "text": [
      "17 is prime\n"
     ]
    }
   ],
   "source": [
    "n = 17\n",
    "m = 2\n",
    "if n<= 1:\n",
    "    report = False\n",
    "else: \n",
    "    report = True\n",
    "    \n",
    "while (report == True) and (m <np.sqrt(n)):\n",
    "    if n%m == 0:\n",
    "        report = False\n",
    "    m= m+1\n",
    "if report == False:\n",
    "    print(n, 'is not prime')\n",
    "else:\n",
    "    print(n, 'is prime')\n",
    "\n",
    "    \n",
    "    "
   ]
  },
  {
   "cell_type": "code",
   "execution_count": null,
   "id": "4f676b90",
   "metadata": {},
   "outputs": [],
   "source": []
  }
 ],
 "metadata": {
  "kernelspec": {
   "display_name": "Python 3",
   "language": "python",
   "name": "python3"
  },
  "language_info": {
   "codemirror_mode": {
    "name": "ipython",
    "version": 3
   },
   "file_extension": ".py",
   "mimetype": "text/x-python",
   "name": "python",
   "nbconvert_exporter": "python",
   "pygments_lexer": "ipython3",
   "version": "3.6.9"
  }
 },
 "nbformat": 4,
 "nbformat_minor": 5
}
