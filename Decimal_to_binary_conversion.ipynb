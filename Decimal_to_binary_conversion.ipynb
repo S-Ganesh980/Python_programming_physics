{
 "cells": [
  {
   "cell_type": "code",
   "execution_count": 15,
   "id": "961fb7ec",
   "metadata": {},
   "outputs": [],
   "source": [
    "def find(decimal):\n",
    "    if decimal ==0: #base conditions\n",
    "        return \n",
    "    else: \n",
    "        find(int(decimal/2))\n",
    "        print(decimal % 2, end= '')"
   ]
  },
  {
   "cell_type": "code",
   "execution_count": 9,
   "id": "5cd64de3",
   "metadata": {},
   "outputs": [
    {
     "name": "stdout",
     "output_type": "stream",
     "text": [
      "1001"
     ]
    }
   ],
   "source": [
    "find(9)"
   ]
  },
  {
   "cell_type": "code",
   "execution_count": null,
   "id": "e738aacf",
   "metadata": {},
   "outputs": [],
   "source": []
  }
 ],
 "metadata": {
  "kernelspec": {
   "display_name": "Python 3",
   "language": "python",
   "name": "python3"
  },
  "language_info": {
   "codemirror_mode": {
    "name": "ipython",
    "version": 3
   },
   "file_extension": ".py",
   "mimetype": "text/x-python",
   "name": "python",
   "nbconvert_exporter": "python",
   "pygments_lexer": "ipython3",
   "version": "3.6.9"
  }
 },
 "nbformat": 4,
 "nbformat_minor": 5
}
