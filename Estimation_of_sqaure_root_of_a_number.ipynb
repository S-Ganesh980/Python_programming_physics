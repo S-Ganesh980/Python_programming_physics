{
 "cells": [
  {
   "cell_type": "markdown",
   "id": "6a138ff7",
   "metadata": {},
   "source": [
    "The algorithm used here to estimate the square root is as follows: <br> We want to estimate the square root of a positive number 'x'.<br> We will start with an arbitrary number $y_0 > 0$ and calculate the sequence $y_{n+1} = \\frac{1}{2}(y_n + \\frac{x}{y_n})$ which converges to $\\sqrt{x}$. "
   ]
  },
  {
   "cell_type": "code",
   "execution_count": 35,
   "id": "9c11d467",
   "metadata": {},
   "outputs": [],
   "source": [
    "import numpy as np"
   ]
  },
  {
   "cell_type": "code",
   "execution_count": 40,
   "id": "bd02370e",
   "metadata": {},
   "outputs": [
    {
     "name": "stdout",
     "output_type": "stream",
     "text": [
      "Estimation of sqrt( 4 ) is 2.000000000000002\n"
     ]
    }
   ],
   "source": [
    "x = 4\n",
    "eps = 1.0e-06 #accuracy to which we want to estimate the sqrt\n",
    "y_n = 1\n",
    "y_n1 = 0.5*(y_n + x/y_n)\n",
    "\n",
    "while np.abs(y_n1 - y_n)> eps:\n",
    "    y_n = y_n1\n",
    "    y_n1 = 0.5*(y_n + x/y_n)\n",
    "print(\"Estimation of sqrt(\", x, \") is\", y_n1)"
   ]
  }
 ],
 "metadata": {
  "kernelspec": {
   "display_name": "Python 3",
   "language": "python",
   "name": "python3"
  },
  "language_info": {
   "codemirror_mode": {
    "name": "ipython",
    "version": 3
   },
   "file_extension": ".py",
   "mimetype": "text/x-python",
   "name": "python",
   "nbconvert_exporter": "python",
   "pygments_lexer": "ipython3",
   "version": "3.6.9"
  }
 },
 "nbformat": 4,
 "nbformat_minor": 5
}
